{
 "cells": [
  {
   "cell_type": "markdown",
   "metadata": {},
   "source": [
    "## Face & Eye Detection using HAAR Cascade Classifiers"
   ]
  },
  {
   "cell_type": "code",
   "execution_count": null,
   "metadata": {},
   "outputs": [],
   "source": [
    "import numpy as np\n",
    "import cv2\n",
    "\n",
    "face_classifier = cv2.CascadeClassifier('Haarcascades/haarcascade_frontalface_default.xml')\n",
    "\n",
    "totalImages = 0\n",
    "notFoundFaces = 0\n",
    "\n",
    "# change quantity of images here\n",
    "imagesQuantity = 100\n",
    "\n",
    "for i in range(imagesQuantity):\n",
    "    try:\n",
    "        # change path to images here\n",
    "        pathToImage = 'images/Humans/1 (' + str(i + 1) + ').jpg'\n",
    "        image = cv2.imread(pathToImage)\n",
    "        gray = cv2.cvtColor(image, cv2.COLOR_BGR2GRAY)\n",
    "        faces = face_classifier.detectMultiScale(gray, 1.3, 5)\n",
    "\n",
    "\n",
    "        faces = face_classifier.detectMultiScale(gray, 1.3, 5)\n",
    "        totalImages = totalImages + 1\n",
    "\n",
    "        print('totalImages:' + str(totalImages))\n",
    "        print('notFoundFaces:' + str(notFoundFaces))\n",
    "\n",
    "        if faces is ():\n",
    "            notFoundFaces = notFoundFaces + 1\n",
    "            \n",
    "    except:\n",
    "        print(\"An exception occurred\")\n",
    "\n",
    "print('TOTAL RESULTS: ')\n",
    "print('totalImages: ' + str(totalImages))\n",
    "print('notFoundFaces: ' + str(notFoundFaces))\n"
   ]
  },
  {
   "cell_type": "code",
   "execution_count": null,
   "metadata": {},
   "outputs": [],
   "source": []
  }
 ],
 "metadata": {
  "kernelspec": {
   "display_name": "Python 3",
   "language": "python",
   "name": "python3"
  },
  "language_info": {
   "codemirror_mode": {
    "name": "ipython",
    "version": 3
   },
   "file_extension": ".py",
   "mimetype": "text/x-python",
   "name": "python",
   "nbconvert_exporter": "python",
   "pygments_lexer": "ipython3",
   "version": "3.7.1"
  }
 },
 "nbformat": 4,
 "nbformat_minor": 1
}
